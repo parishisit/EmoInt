{
 "cells": [
  {
   "cell_type": "code",
   "execution_count": 1,
   "metadata": {},
   "outputs": [],
   "source": [
    "from tensorflow.keras.models import load_model\n",
    "model= load_model('model.h5')"
   ]
  },
  {
   "cell_type": "code",
   "execution_count": 2,
   "metadata": {},
   "outputs": [],
   "source": [
    "import pickle\n",
    "with open(\"tok.pickle\", \"rb\") as f:\n",
    "    tokenizer, max_seq_len, index_to_class = pickle.load(f)"
   ]
  },
  {
   "cell_type": "code",
   "execution_count": 3,
   "metadata": {},
   "outputs": [],
   "source": [
    "import nltk\n",
    "from nltk.corpus import stopwords\n",
    "STOPWORDS = set(stopwords.words('english'))"
   ]
  },
  {
   "cell_type": "code",
   "execution_count": 4,
   "metadata": {},
   "outputs": [],
   "source": [
    "from nltk.stem.snowball import SnowballStemmer\n",
    "stemmer = SnowballStemmer(\"english\")"
   ]
  },
  {
   "cell_type": "code",
   "execution_count": 5,
   "metadata": {},
   "outputs": [],
   "source": [
    "import numpy as np\n",
    "from tensorflow.keras.preprocessing.text import Tokenizer\n",
    "from tensorflow.keras.preprocessing.sequence import pad_sequences"
   ]
  },
  {
   "cell_type": "code",
   "execution_count": 6,
   "metadata": {},
   "outputs": [],
   "source": [
    "def preproc_text(text, model, tokenizer, max_seq_len, index_to_class):\n",
    "    text= text.lower()\n",
    "    text = ' '.join([stemmer.stem(word) for word in text.split() if word not in STOPWORDS])\n",
    "    seq= tokenizer.texts_to_sequences([text])\n",
    "    pad= pad_sequences(seq, maxlen=max_seq_len, padding='post', truncating='post')\n",
    "    p=model.predict(pad)[0]\n",
    "    ptext= index_to_class[np.argmax(p).astype('int8')]\n",
    "    return ptext"
   ]
  },
  {
   "cell_type": "code",
   "execution_count": 7,
   "metadata": {},
   "outputs": [],
   "source": [
    "def chat():\n",
    "    print('Hi, What is your name?')\n",
    "    name= input()\n",
    "    print(f'Nice to meet you {name}')\n",
    "    print('Do you like to talk?')\n",
    "    y_n= input()\n",
    "    if y_n.lower() =='yes':\n",
    "        print('Okay then tell me what is going on')\n",
    "        sent= input()\n",
    "        psent= preproc_text(sent, model, tokenizer, max_seq_len, index_to_class)\n",
    "        if psent=='sadness':\n",
    "            print('Seems like you are going through a rough time, I can help you feel a bit better')\n",
    "        elif psent=='anger':\n",
    "            print('Anger is an acid that can do more harm to the vessel in which it is stored than to anything on which it is poured.')\n",
    "        elif psent=='fear':\n",
    "            print('Nothing in life is to be feared. It is only to be understood.')\n",
    "        elif psent=='joy':\n",
    "            print(\"I'm happy that your happy\")\n",
    "    else:\n",
    "        print('okay we can talk another time')\n",
    "            \n",
    "        \n",
    "        "
   ]
  },
  {
   "cell_type": "code",
   "execution_count": null,
   "metadata": {},
   "outputs": [],
   "source": [
    "chat()"
   ]
  }
 ],
 "metadata": {
  "kernelspec": {
   "display_name": "Python 3",
   "language": "python",
   "name": "python3"
  },
  "language_info": {
   "codemirror_mode": {
    "name": "ipython",
    "version": 3
   },
   "file_extension": ".py",
   "mimetype": "text/x-python",
   "name": "python",
   "nbconvert_exporter": "python",
   "pygments_lexer": "ipython3",
   "version": "3.7.3"
  }
 },
 "nbformat": 4,
 "nbformat_minor": 4
}

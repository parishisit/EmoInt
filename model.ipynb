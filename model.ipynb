{
 "cells": [
  {
   "cell_type": "code",
   "execution_count": 23,
   "metadata": {},
   "outputs": [],
   "source": [
    "import nltk\n",
    "from nltk.corpus import stopwords\n",
    "STOPWORDS = set(stopwords.words('english'))"
   ]
  },
  {
   "cell_type": "code",
   "execution_count": 24,
   "metadata": {},
   "outputs": [],
   "source": [
    "import tensorflow as tf\n",
    "import keras\n",
    "from tensorflow.keras.preprocessing.text import Tokenizer\n",
    "from tensorflow.keras.preprocessing.sequence import pad_sequences"
   ]
  },
  {
   "cell_type": "code",
   "execution_count": 25,
   "metadata": {},
   "outputs": [],
   "source": [
    "from nltk.stem.snowball import SnowballStemmer\n",
    "stemmer = SnowballStemmer(\"english\")"
   ]
  },
  {
   "cell_type": "code",
   "execution_count": 26,
   "metadata": {},
   "outputs": [],
   "source": [
    "import re\n",
    "import numpy as np"
   ]
  },
  {
   "cell_type": "code",
   "execution_count": 27,
   "metadata": {},
   "outputs": [],
   "source": [
    "import pickle"
   ]
  },
  {
   "cell_type": "code",
   "execution_count": 28,
   "metadata": {},
   "outputs": [],
   "source": [
    "files=[\n",
    "       'anger-ratings-0to1.train.txt',\n",
    "       'fear-ratings-0to1.train.txt',\n",
    "       'joy-ratings-0to1.train.txt',\n",
    "       'sadness-ratings-0to1.train.txt',\n",
    "       'anger-ratings-0to1.dev.gold.txt',\n",
    "       'fear-ratings-0to1.dev.gold.txt',\n",
    "       'joy-ratings-0to1.dev.gold.txt',\n",
    "       'sadness-ratings-0to1.dev.gold.txt',\n",
    "        'anger-ratings-0to1.test.gold.txt',\n",
    "        'sadness-ratings-0to1.test.gold.txt',\n",
    "        'joy-ratings-0to1.test.gold.txt',\n",
    "        'fear-ratings-0to1.test.gold.txt'\n",
    "]"
   ]
  },
  {
   "cell_type": "code",
   "execution_count": 29,
   "metadata": {},
   "outputs": [],
   "source": [
    "def read_data(files):\n",
    "    x=[]\n",
    "    y=[]\n",
    "    threshold=0.5\n",
    "    for file in files:\n",
    "      corpus = open(file).read().lower().split('\\n')\n",
    "      del corpus[-1]\n",
    "      for line in corpus:\n",
    "        line= line.split('\\t') #seperate parts\n",
    "        intensity= line[-1]\n",
    "        if float(intensity)>threshold:\n",
    "          x.append(line[1])\n",
    "          y.append(line[2])\n",
    "    return x,y"
   ]
  },
  {
   "cell_type": "code",
   "execution_count": 30,
   "metadata": {},
   "outputs": [],
   "source": [
    "def clean_text(text):\n",
    "    text = ' '.join([x for x in text.split() if x[0]!='@'])\n",
    "    text = ' '.join([stemmer.stem(word) for word in text.split() if word not in STOPWORDS])\n",
    "    return text"
   ]
  },
  {
   "cell_type": "code",
   "execution_count": 31,
   "metadata": {},
   "outputs": [],
   "source": [
    "x,y = read_data(files)\n",
    "x = [clean_text(text) for text in x]"
   ]
  },
  {
   "cell_type": "code",
   "execution_count": 32,
   "metadata": {},
   "outputs": [],
   "source": [
    "from sklearn.utils import shuffle\n",
    "x,y = shuffle(x,y)"
   ]
  },
  {
   "cell_type": "code",
   "execution_count": 33,
   "metadata": {},
   "outputs": [],
   "source": [
    "from sklearn.model_selection import train_test_split\n",
    "trainx, testx, trainy, testy = train_test_split(x,y,test_size=0.33, stratify=y)"
   ]
  },
  {
   "cell_type": "code",
   "execution_count": 34,
   "metadata": {},
   "outputs": [],
   "source": [
    "tokenizer = Tokenizer(oov_token = '<OOV>')\n",
    "tokenizer.fit_on_texts(trainx)\n",
    "word_index= tokenizer.word_index\n",
    "vocab_size = len(word_index)+1"
   ]
  },
  {
   "cell_type": "code",
   "execution_count": 35,
   "metadata": {},
   "outputs": [],
   "source": [
    "x_train_seq = tokenizer.texts_to_sequences(trainx)\n",
    "max_seq_len= max([len(x) for x in x_train_seq])\n",
    "x_train = pad_sequences(x_train_seq, maxlen= max_seq_len, truncating= 'post', padding= 'post')\n",
    "x_test_seq = tokenizer.texts_to_sequences(testx)\n",
    "x_test = pad_sequences(x_test_seq, maxlen= max_seq_len, truncating= 'post', padding= 'post')"
   ]
  },
  {
   "cell_type": "code",
   "execution_count": 36,
   "metadata": {},
   "outputs": [],
   "source": [
    "classes= set(y)\n",
    "class_to_index= dict((c,i) for i,c in enumerate(classes))\n",
    "index_to_class= dict((v,k) for k,v in class_to_index.items())\n",
    "names_to_ids= lambda labels: np.array([class_to_index.get(x) for x in labels])"
   ]
  },
  {
   "cell_type": "code",
   "execution_count": 37,
   "metadata": {},
   "outputs": [],
   "source": [
    "y_train = names_to_ids(trainy)\n",
    "y_test = names_to_ids(testy)"
   ]
  },
  {
   "cell_type": "code",
   "execution_count": 38,
   "metadata": {},
   "outputs": [],
   "source": [
    "x_test = np.array(x_test)\n",
    "x_train = np.array(x_train)\n",
    "y_train = np.array(y_train)\n",
    "y_test = np.array(y_test)"
   ]
  },
  {
   "cell_type": "code",
   "execution_count": 39,
   "metadata": {},
   "outputs": [],
   "source": [
    "with open(\"tok.pickle\", \"wb\") as f:\n",
    "    pickle.dump((tokenizer, max_seq_len, index_to_class), f)"
   ]
  },
  {
   "cell_type": "markdown",
   "metadata": {},
   "source": [
    "## MODEL 1"
   ]
  },
  {
   "cell_type": "code",
   "execution_count": 111,
   "metadata": {},
   "outputs": [],
   "source": [
    "'''model= tf.keras.models.Sequential([\n",
    "       tf.keras.layers.Embedding(vocab_size,16,input_length= max_seq_len),\n",
    "       tf.keras.layers.Bidirectional(tf.keras.layers.LSTM(20,return_sequences=True)),\n",
    "       tf.keras.layers.Bidirectional(tf.keras.layers.LSTM(20)),\n",
    "       tf.keras.layers.Dense(4, activation='softmax')\n",
    "])\n",
    "\n",
    "model.compile(\n",
    "    loss='sparse_categorical_crossentropy',\n",
    "    optimizer='adam',\n",
    "    metrics=['accuracy']\n",
    ")\n",
    "h= model.fit(\n",
    "    x_train, y_train,\n",
    "    epochs=100,\n",
    "    validation_data=(x_test, y_test),\n",
    "    callbacks=[\n",
    "               tf.keras.callbacks.EarlyStopping(monitor='val_accuracy', patience=2)\n",
    "    ]\n",
    ")'''"
   ]
  },
  {
   "cell_type": "markdown",
   "metadata": {},
   "source": [
    "## MODEL 2"
   ]
  },
  {
   "cell_type": "code",
   "execution_count": 115,
   "metadata": {},
   "outputs": [
    {
     "name": "stdout",
     "output_type": "stream",
     "text": [
      "Train on 2207 samples, validate on 1088 samples\n",
      "Epoch 1/100\n",
      "2207/2207 [==============================] - 1s 377us/sample - loss: 1.3766 - accuracy: 0.3163 - val_loss: 1.3673 - val_accuracy: 0.3162\n",
      "Epoch 2/100\n",
      "2207/2207 [==============================] - 0s 134us/sample - loss: 1.3206 - accuracy: 0.3181 - val_loss: 1.2442 - val_accuracy: 0.3483\n",
      "Epoch 3/100\n",
      "2207/2207 [==============================] - 0s 120us/sample - loss: 0.9464 - accuracy: 0.6257 - val_loss: 0.6185 - val_accuracy: 0.8272\n",
      "Epoch 4/100\n",
      "2207/2207 [==============================] - 0s 138us/sample - loss: 0.2788 - accuracy: 0.9388 - val_loss: 0.3744 - val_accuracy: 0.8713\n",
      "Epoch 5/100\n",
      "2207/2207 [==============================] - 0s 127us/sample - loss: 0.0982 - accuracy: 0.9733 - val_loss: 0.3691 - val_accuracy: 0.8713\n",
      "Epoch 6/100\n",
      "2207/2207 [==============================] - 0s 119us/sample - loss: 0.0566 - accuracy: 0.9823 - val_loss: 0.3802 - val_accuracy: 0.8759\n",
      "Epoch 7/100\n",
      "2207/2207 [==============================] - 0s 122us/sample - loss: 0.0453 - accuracy: 0.9832 - val_loss: 0.3935 - val_accuracy: 0.8759\n",
      "Epoch 8/100\n",
      "2207/2207 [==============================] - 0s 131us/sample - loss: 0.0399 - accuracy: 0.9828 - val_loss: 0.3817 - val_accuracy: 0.8805\n",
      "Epoch 9/100\n",
      "2207/2207 [==============================] - 0s 119us/sample - loss: 0.0346 - accuracy: 0.9823 - val_loss: 0.3804 - val_accuracy: 0.8759\n",
      "Epoch 10/100\n",
      "2207/2207 [==============================] - 0s 122us/sample - loss: 0.0335 - accuracy: 0.9850 - val_loss: 0.3960 - val_accuracy: 0.8741\n"
     ]
    }
   ],
   "source": [
    "model = tf.keras.Sequential([\n",
    "    tf.keras.layers.Embedding(vocab_size, 16, input_length=max_seq_len),\n",
    "    tf.keras.layers.Conv1D(64, 5, activation='relu'),\n",
    "    tf.keras.layers.GlobalMaxPooling1D(),\n",
    "    tf.keras.layers.Dense(16, activation='relu'),\n",
    "    tf.keras.layers.Dense(4, activation='sigmoid')\n",
    "])\n",
    "model.compile(\n",
    "    loss='categorical_crossentropy',\n",
    "    optimizer='adam',\n",
    "    metrics=['accuracy']\n",
    ")\n",
    "h= model.fit(\n",
    "    x_train, y_train,\n",
    "    epochs=100,\n",
    "    validation_data=(x_test, y_test),\n",
    "    callbacks=[\n",
    "               tf.keras.callbacks.EarlyStopping(monitor='val_accuracy', patience=2)\n",
    "    ]\n",
    ")"
   ]
  },
  {
   "cell_type": "code",
   "execution_count": 117,
   "metadata": {},
   "outputs": [],
   "source": [
    "%matplotlib inline\n",
    "\n",
    "import matplotlib.pyplot as plt\n",
    "import random\n",
    "\n",
    "\n",
    "def show_history(h):\n",
    "    epochs_trained = len(h.history['loss'])\n",
    "    plt.figure(figsize=(16, 6))\n",
    "\n",
    "    plt.subplot(1, 2, 1)\n",
    "    plt.plot(range(0, epochs_trained), h.history.get('accuracy'), label='Training')\n",
    "    plt.plot(range(0, epochs_trained), h.history.get('val_accuracy'), label='Validation')\n",
    "    plt.ylim([0., 1.])\n",
    "    plt.xlabel('Epochs')\n",
    "    plt.ylabel('Accuracy')\n",
    "    plt.legend()\n",
    "\n",
    "    plt.subplot(1, 2, 2)\n",
    "    plt.plot(range(0, epochs_trained), h.history.get('loss'), label='Training')\n",
    "    plt.plot(range(0, epochs_trained), h.history.get('val_loss'), label='Validation')\n",
    "    plt.xlabel('Epochs')\n",
    "    plt.ylabel('Loss')\n",
    "    plt.legend()\n",
    "    plt.show()"
   ]
  },
  {
   "cell_type": "code",
   "execution_count": 118,
   "metadata": {},
   "outputs": [
    {
     "data": {
      "image/png": "[encoded data removed]",
      "text/plain": [
       "<Figure size 1152x432 with 2 Axes>"
      ]
     },
     "metadata": {
      "needs_background": "light"
     },
     "output_type": "display_data"
    }
   ],
   "source": [
    "show_history(h)"
   ]
  },
  {
   "cell_type": "code",
   "execution_count": 155,
   "metadata": {},
   "outputs": [
    {
     "data": {
      "text/plain": [
       "'sadness'"
      ]
     },
     "execution_count": 155,
     "metadata": {},
     "output_type": "execute_result"
    }
   ],
   "source": [
    "sen='i lost my beloved pet'\n",
    "sen= clean_text(sen)\n",
    "seq= tokenizer.texts_to_sequences([sen])\n",
    "pad= pad_sequences(seq, maxlen=max_seq_len, padding='post', truncating='post')\n",
    "p=model.predict(pad)[0]\n",
    "psent= index_to_class[np.argmax(p).astype('int8')]\n",
    "psent"
   ]
  },
  {
   "cell_type": "markdown",
   "metadata": {},
   "source": [
    "## SAVE"
   ]
  },
  {
   "cell_type": "code",
   "execution_count": 150,
   "metadata": {},
   "outputs": [],
   "source": [
    "import os.path\n",
    "if os.path.isfile('model.h5') is False:\n",
    "    model.save('model.h5')"
   ]
  },
  {
   "cell_type": "markdown",
   "metadata": {},
   "source": [
    "## LOAD"
   ]
  },
  {
   "cell_type": "code",
   "execution_count": 40,
   "metadata": {},
   "outputs": [],
   "source": [
    "from tensorflow.keras.models import load_model\n",
    "new_model= load_model('model.h5')"
   ]
  },
  {
   "cell_type": "code",
   "execution_count": 50,
   "metadata": {},
   "outputs": [
    {
     "data": {
      "text/plain": [
       "'sadness'"
      ]
     },
     "execution_count": 50,
     "metadata": {},
     "output_type": "execute_result"
    }
   ],
   "source": [
    "sen='i lost a beloved pet'\n",
    "sen= clean_text(sen)\n",
    "seq= tokenizer.texts_to_sequences([sen])\n",
    "pad= pad_sequences(seq, maxlen=max_seq_len, padding='post', truncating='post')\n",
    "p=new_model.predict(pad)[0]\n",
    "psent= index_to_class[np.argmax(p).astype('int8')]\n",
    "psent"
   ]
  }
 ],
 "metadata": {
  "kernelspec": {
   "display_name": "Python 3",
   "language": "python",
   "name": "python3"
  },
  "language_info": {
   "codemirror_mode": {
    "name": "ipython",
    "version": 3
   },
   "file_extension": ".py",
   "mimetype": "text/x-python",
   "name": "python",
   "nbconvert_exporter": "python",
   "pygments_lexer": "ipython3",
   "version": "3.7.3"
  }
 },
 "nbformat": 4,
 "nbformat_minor": 4
}
